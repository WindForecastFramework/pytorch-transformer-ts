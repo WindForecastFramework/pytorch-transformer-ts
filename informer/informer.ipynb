{
 "cells": [
  {
   "cell_type": "code",
   "execution_count": 1,
   "id": "420561b7",
   "metadata": {},
   "outputs": [],
   "source": [
    "%matplotlib inline\n",
    "\n",
    "import multiprocessing\n",
    "import matplotlib.dates as mdates\n",
    "from matplotlib import pyplot as plt\n",
    "from itertools import islice"
   ]
  },
  {
   "cell_type": "code",
   "execution_count": 2,
   "id": "b10c3dd3",
   "metadata": {
    "scrolled": true
   },
   "outputs": [
    {
     "name": "stderr",
     "output_type": "stream",
     "text": [
      "/Users/ahenry/miniconda3/envs/wind_forecasting_env/lib/python3.12/site-packages/gluonts/json.py:102: UserWarning: Using `json`-module for json-handling. Consider installing one of `orjson`, `ujson` to speed up serialization and deserialization.\n",
      "  warnings.warn(\n"
     ]
    }
   ],
   "source": [
    "from gluonts.evaluation import make_evaluation_predictions, Evaluator\n",
    "from gluonts.dataset.repository.datasets import get_dataset\n",
    "from gluonts.dataset.pandas import PandasDataset\n",
    "from gluonts.transform.sampler import InstanceSampler\n",
    "\n",
    "from estimator import InformerEstimator"
   ]
  },
  {
   "cell_type": "code",
   "execution_count": 3,
   "id": "1419c7d1",
   "metadata": {},
   "outputs": [],
   "source": [
    "from wind_forecasting.datasets.wind_farm import KPWindFarm\n",
    "from wind_forecasting.datasets.data_module import DataModule\n",
    "import pandas as pd\n",
    "import multiprocessing as mp\n",
    "LOG_DIR = \"/Users/ahenry/Documents/toolboxes/wind_forecasting/examples/logging/\"\n",
    "DATA_PATH = \"/Users/ahenry/Documents/toolboxes/wind_forecasting/examples/data/short_loaded_data_calibrated_filtered_split_imputed_normalized.parquet\"\n",
    "NORM_CONSTS = pd.read_csv(\"/Users/ahenry/Documents/toolboxes/wind_forecasting/examples/data/normalization_consts.csv\", index_col=None)\n",
    "n_workers = mp.cpu_count()\n",
    "accelerator = \"auto\"\n",
    "devices = \"auto\"\n",
    "num_nodes = 1\n",
    "strategy = \"auto\"\n",
    "dataset_class = \"KPWindFarm\"\n",
    "config = {\n",
    "        \"dataset\": {\n",
    "            \"dataset_class\": dataset_class,\n",
    "            \"data_path\": DATA_PATH,\n",
    "            \"normalization_consts\": NORM_CONSTS,\n",
    "            \"context_len\": 4, # 120=10 minutes for 5 sec sample size,\n",
    "            \"target_len\":  3, # 120=10 minutes for 5 sec sample size,\n",
    "            # \"target_turbine_ids\": [\"wt029\", \"wt034\", \"wt074\"],\n",
    "            \"normalize\": False, \n",
    "            \"batch_size\": 128,\n",
    "            \"workers\": n_workers,\n",
    "            \"overfit\": False,\n",
    "            \"test_split\": 0.15,\n",
    "            \"val_split\": 0.15,\n",
    "            \"collate_fn\": None,\n",
    "            \"dataset_kwargs\": { # specific to class KPWindFarm or similar \n",
    "                \"target_turbine_ids\": [\"wt029\"] #, \"wt034\", \"wt074\"]\n",
    "            }\n",
    "        }\n",
    "}\n",
    "data_module = DataModule(\n",
    "            dataset_class=globals()[config[\"dataset\"][\"dataset_class\"]],\n",
    "            config=config\n",
    ")"
   ]
  },
  {
   "cell_type": "code",
   "execution_count": 4,
   "id": "7dd7d1cc",
   "metadata": {},
   "outputs": [
    {
     "data": {
      "text/plain": [
       "DatetimeIndex(['2022-03-01 03:01:10', '2022-03-01 03:01:20',\n",
       "               '2022-03-01 03:01:30', '2022-03-01 03:01:40',\n",
       "               '2022-03-01 03:01:50', '2022-03-01 03:02:00',\n",
       "               '2022-03-01 03:02:10', '2022-03-01 03:02:20',\n",
       "               '2022-03-01 03:02:30', '2022-03-01 03:02:40',\n",
       "               ...\n",
       "               '2022-03-31 18:01:40', '2022-03-31 18:01:50',\n",
       "               '2022-03-31 18:02:00', '2022-03-31 18:02:10',\n",
       "               '2022-03-31 18:02:20', '2022-03-31 18:02:30',\n",
       "               '2022-03-31 18:02:40', '2022-03-31 18:02:50',\n",
       "               '2022-03-31 18:03:00', '2022-03-31 18:03:10'],\n",
       "              dtype='datetime64[us]', name='timestamp', length=264613, freq='10s')"
      ]
     },
     "execution_count": 4,
     "metadata": {},
     "output_type": "execute_result"
    }
   ],
   "source": [
    "\n",
    "# PL_SAVE_PATH = \"/Users/ahenry/Documents/toolboxes/wind_forecasting/examples/data/filled_data_calibrated_filtered_split_imputed_normalized.parquet\"\n",
    "df = pd.read_parquet(DATA_PATH).resample('10s', on=\"time\").mean()\n",
    "df.index.rename(\"timestamp\")"
   ]
  },
  {
   "cell_type": "code",
   "execution_count": 5,
   "id": "9105ef34",
   "metadata": {},
   "outputs": [],
   "source": [
    "target_cols = [col for col in df.columns if any(prefix in col for prefix in [\"ws_horz\", \"ws_vert\"])]\n",
    "past_feat_dynamic_real = [col for col in df.columns if any(prefix in col for prefix in [\"nd_cos\", \"nd_sin\"])] \n",
    "sub_df = df.loc[df[\"continuity_group\"] == df[\"continuity_group\"].value_counts().index[0]]\\\n",
    "           .drop(columns=\"continuity_group\")\n",
    "sub_df.head(10)\n",
    "# sub_df = {}\n",
    "ds = PandasDataset(sub_df, target=target_cols, assume_sorted=True, past_feat_dynamic_real=past_feat_dynamic_real)"
   ]
  },
  {
   "cell_type": "code",
   "execution_count": null,
   "id": "387aedd1",
   "metadata": {},
   "outputs": [],
   "source": [
    "dir(ds)\n",
    "ds.target\n",
    "# from gluonts import __file__\n",
    "# __file__"
   ]
  },
  {
   "cell_type": "code",
   "execution_count": null,
   "id": "1c68c9fe",
   "metadata": {},
   "outputs": [],
   "source": [
    "class ContinuitySampler(InstanceSampler):\n",
    "    pass"
   ]
  },
  {
   "cell_type": "code",
   "execution_count": 3,
   "id": "d018b7fb",
   "metadata": {},
   "outputs": [],
   "source": [
    "dataset = get_dataset(\"electricity\")"
   ]
  },
  {
   "cell_type": "code",
   "execution_count": null,
   "id": "ac9e2a19",
   "metadata": {},
   "outputs": [],
   "source": [
    "# dir(dataset)\n",
    "# dataset.count\n",
    "# dataset.index\n",
    "# dir(dataset.metadata)\n",
    "# dataset.test\n",
    "# dataset.train"
   ]
  },
  {
   "cell_type": "code",
   "execution_count": null,
   "id": "1a356ed6",
   "metadata": {},
   "outputs": [],
   "source": []
  },
  {
   "cell_type": "code",
   "execution_count": 4,
   "id": "e772234f",
   "metadata": {},
   "outputs": [],
   "source": [
    "estimator = InformerEstimator(\n",
    "    freq=dataset.metadata.freq,\n",
    "    prediction_length=dataset.metadata.prediction_length,\n",
    "    context_length=dataset.metadata.prediction_length*7,\n",
    "    \n",
    "    # \n",
    "    num_feat_static_cat=1,\n",
    "    cardinality=[321],\n",
    "    embedding_dimension=[3],\n",
    "    \n",
    "    # attention hyper-params\n",
    "    dim_feedforward=32,\n",
    "    num_encoder_layers=2,\n",
    "    num_decoder_layers=2,\n",
    "    nhead=2,\n",
    "    activation=\"relu\",\n",
    "    \n",
    "    # training params\n",
    "    batch_size=128,\n",
    "    num_batches_per_epoch=100,\n",
    "    trainer_kwargs=dict(max_epochs=50, accelerator='gpu', devices=1),\n",
    ")"
   ]
  },
  {
   "cell_type": "code",
   "execution_count": null,
   "id": "22d804e4",
   "metadata": {},
   "outputs": [],
   "source": [
    "predictor = estimator.train(\n",
    "    training_data=dataset.train,\n",
    "    shuffle_buffer_length=1024\n",
    ")"
   ]
  },
  {
   "cell_type": "code",
   "execution_count": null,
   "id": "11a47d5a",
   "metadata": {},
   "outputs": [],
   "source": [
    "forecast_it, ts_it = make_evaluation_predictions(\n",
    "    dataset=dataset.test, \n",
    "    predictor=predictor\n",
    ")"
   ]
  },
  {
   "cell_type": "code",
   "execution_count": null,
   "id": "e4e94932",
   "metadata": {},
   "outputs": [],
   "source": [
    "forecasts = list(forecast_it)"
   ]
  },
  {
   "cell_type": "code",
   "execution_count": null,
   "id": "17c5e570",
   "metadata": {},
   "outputs": [],
   "source": [
    "tss = list(ts_it)"
   ]
  },
  {
   "cell_type": "code",
   "execution_count": null,
   "id": "9985be71",
   "metadata": {},
   "outputs": [],
   "source": [
    "# num_workers is limited to 10 if cpu has more cores\n",
    "num_workers = min(multiprocessing.cpu_count(), 10)\n",
    "\n",
    "evaluator = Evaluator(num_workers=num_workers)"
   ]
  },
  {
   "cell_type": "code",
   "execution_count": null,
   "id": "cca60b1e",
   "metadata": {},
   "outputs": [],
   "source": [
    "agg_metrics, ts_metrics = evaluator(iter(tss), iter(forecasts))"
   ]
  },
  {
   "cell_type": "code",
   "execution_count": null,
   "id": "92389256",
   "metadata": {},
   "outputs": [],
   "source": [
    "agg_metrics"
   ]
  },
  {
   "cell_type": "code",
   "execution_count": null,
   "id": "23878611",
   "metadata": {},
   "outputs": [],
   "source": [
    "plt.figure(figsize=(20, 15))\n",
    "date_formater = mdates.DateFormatter('%b, %d')\n",
    "plt.rcParams.update({'font.size': 15})\n",
    "\n",
    "for idx, (forecast, ts) in islice(enumerate(zip(forecasts, tss)), 9):\n",
    "    ax = plt.subplot(3, 3, idx+1)\n",
    "\n",
    "    # Convert index for plot\n",
    "    ts = ts[-4 * dataset.metadata.prediction_length:].to_timestamp()\n",
    "    \n",
    "    plt.plot(ts, label=\"target\")\n",
    "    forecast.plot( color='g')\n",
    "    plt.xticks(rotation=60)\n",
    "    plt.title(forecast.item_id)\n",
    "    ax.xaxis.set_major_formatter(date_formater)\n",
    "\n",
    "plt.gcf().tight_layout()\n",
    "plt.legend()\n",
    "plt.show()"
   ]
  }
 ],
 "metadata": {
  "kernelspec": {
   "display_name": "Python 3 (ipykernel)",
   "language": "python",
   "name": "python3"
  },
  "language_info": {
   "codemirror_mode": {
    "name": "ipython",
    "version": 3
   },
   "file_extension": ".py",
   "mimetype": "text/x-python",
   "name": "python",
   "nbconvert_exporter": "python",
   "pygments_lexer": "ipython3",
   "version": "3.12.4"
  }
 },
 "nbformat": 4,
 "nbformat_minor": 5
}
