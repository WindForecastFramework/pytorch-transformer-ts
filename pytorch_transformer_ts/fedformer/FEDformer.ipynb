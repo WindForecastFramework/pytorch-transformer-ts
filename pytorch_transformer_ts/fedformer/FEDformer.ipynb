{
 "cells": [
  {
   "cell_type": "code",
   "execution_count": null,
   "id": "0",
   "metadata": {},
   "outputs": [],
   "source": [
    "import torch \n",
    "\n",
    "device = torch.device('cuda' if torch.cuda.is_available() else 'cpu')\n",
    "print('Using device:', device)\n",
    "print('CUDA version: ', torch.version.cuda)\n",
    "print('Default current GPU used: ', torch.cuda.current_device())\n",
    "print('Device count: ', torch.cuda.device_count())\n",
    "for i in range(torch.cuda.device_count()):\n",
    "    print('Device name:', torch.cuda.get_device_name(i))\n",
    "\n",
    "\n",
    "if device.type == 'cuda':\n",
    "    print('Allocated:', round(torch.cuda.memory_allocated(0)/1024**3,1), 'GB')\n",
    "    print('Cached:   ', round(torch.cuda.memory_reserved(0)/1024**3,1), 'GB')"
   ]
  },
  {
   "cell_type": "code",
   "execution_count": null,
   "id": "1",
   "metadata": {},
   "outputs": [],
   "source": [
    "import logging"
   ]
  },
  {
   "cell_type": "code",
   "execution_count": null,
   "id": "2",
   "metadata": {},
   "outputs": [],
   "source": [
    "logging.basicConfig(filename='output.log',level = logging.INFO)"
   ]
  },
  {
   "cell_type": "code",
   "execution_count": null,
   "id": "3",
   "metadata": {
    "executionInfo": {
     "elapsed": 314,
     "status": "ok",
     "timestamp": 1657091681882,
     "user": {
      "displayName": "Hena Ghonia",
      "userId": "03246241722682988409"
     },
     "user_tz": 240
    },
    "id": "420561b7",
    "tags": []
   },
   "outputs": [],
   "source": [
    "%matplotlib inline\n",
    "\n",
    "import multiprocessing\n",
    "import matplotlib.dates as mdates\n",
    "from matplotlib import pyplot as plt\n",
    "from itertools import islice"
   ]
  },
  {
   "cell_type": "code",
   "execution_count": null,
   "id": "4",
   "metadata": {
    "executionInfo": {
     "elapsed": 248,
     "status": "ok",
     "timestamp": 1657091683978,
     "user": {
      "displayName": "Hena Ghonia",
      "userId": "03246241722682988409"
     },
     "user_tz": 240
    },
    "id": "b10c3dd3"
   },
   "outputs": [],
   "source": [
    "from gluonts.evaluation import make_evaluation_predictions, Evaluator\n",
    "from gluonts.dataset.repository.datasets import get_dataset\n",
    "\n",
    "from estimator import FEDformerEstimator"
   ]
  },
  {
   "cell_type": "code",
   "execution_count": null,
   "id": "5",
   "metadata": {
    "executionInfo": {
     "elapsed": 3,
     "status": "ok",
     "timestamp": 1657091684462,
     "user": {
      "displayName": "Hena Ghonia",
      "userId": "03246241722682988409"
     },
     "user_tz": 240
    },
    "id": "d018b7fb"
   },
   "outputs": [],
   "source": [
    "dataset = get_dataset(\"electricity\")"
   ]
  },
  {
   "cell_type": "code",
   "execution_count": null,
   "id": "6",
   "metadata": {
    "executionInfo": {
     "elapsed": 3,
     "status": "ok",
     "timestamp": 1657091687089,
     "user": {
      "displayName": "Hena Ghonia",
      "userId": "03246241722682988409"
     },
     "user_tz": 240
    },
    "id": "e772234f"
   },
   "outputs": [],
   "source": [
    "estimator = FEDformerEstimator(\n",
    "    freq='h',\n",
    "    prediction_length=dataset.metadata.prediction_length,\n",
    "    context_length=dataset.metadata.prediction_length*7,\n",
    "    dim_feedforward=16,\n",
    "    num_feat_static_cat=1,\n",
    "    cardinality=[321],\n",
    "    embedding_dimension=[3],\n",
    "    # attention hyper-params\n",
    "    num_encoder_layers=2,\n",
    "    num_decoder_layers=1,\n",
    "    nhead=2,\n",
    "    activation=\"relu\",\n",
    "    moving_avg=[24],\n",
    "    # training params\n",
    "    batch_size=128,\n",
    "    num_batches_per_epoch=50,\n",
    "    trainer_kwargs=dict(max_epochs=1, accelerator='gpu', gpus=1),\n",
    ")"
   ]
  },
  {
   "cell_type": "code",
   "execution_count": null,
   "id": "7",
   "metadata": {
    "colab": {
     "base_uri": "https://localhost:8080/",
     "height": 1000,
     "referenced_widgets": [
      "15f43598310a460d98c2f5fd7b4ed68a",
      "f93223e98409437da542e499168b5d2e",
      "487fa08c566d42849d02f5447eb7fd51",
      "14d504febb0c40719bef98e2a67ab670",
      "9781b8be1681499988883461a84e6c2f",
      "65828c15c48547dc8a4167f2efc09198",
      "a0b2398815ba4515b4d079c629cf3a06",
      "71f31567159f4551bcaf6f2586daf29b",
      "d7af616078794d5087a0f713ff9b1d88",
      "2031ecb3c32245dd95e73c2eb86189b1",
      "aedfd2f7bf80486c9ed3602c6b1762e6"
     ]
    },
    "executionInfo": {
     "elapsed": 4710,
     "status": "error",
     "timestamp": 1657091693249,
     "user": {
      "displayName": "Hena Ghonia",
      "userId": "03246241722682988409"
     },
     "user_tz": 240
    },
    "id": "22d804e4",
    "outputId": "6966479c-f461-423e-d9b8-3d2b04c7c131"
   },
   "outputs": [],
   "source": [
    "predictor = estimator.train(\n",
    "    training_data=dataset.train,\n",
    "    num_workers=8,\n",
    "    # shuffle_buffer_length=1024\n",
    ")\n"
   ]
  },
  {
   "cell_type": "code",
   "execution_count": null,
   "id": "8",
   "metadata": {
    "id": "11a47d5a"
   },
   "outputs": [],
   "source": [
    "forecast_it, ts_it = make_evaluation_predictions(\n",
    "    dataset=dataset.test, \n",
    "    predictor=predictor\n",
    ")"
   ]
  },
  {
   "cell_type": "code",
   "execution_count": null,
   "id": "9",
   "metadata": {
    "id": "e4e94932"
   },
   "outputs": [],
   "source": [
    "forecasts = list(forecast_it)"
   ]
  },
  {
   "cell_type": "code",
   "execution_count": null,
   "id": "10",
   "metadata": {
    "id": "17c5e570"
   },
   "outputs": [],
   "source": [
    "tss = list(ts_it)"
   ]
  },
  {
   "cell_type": "code",
   "execution_count": null,
   "id": "11",
   "metadata": {
    "id": "9985be71"
   },
   "outputs": [],
   "source": [
    "# num_workers is limited to 10 if cpu has more cores\n",
    "num_workers = min(multiprocessing.cpu_count(), 10)\n",
    "\n",
    "evaluator = Evaluator(num_workers=num_workers)"
   ]
  },
  {
   "cell_type": "code",
   "execution_count": null,
   "id": "12",
   "metadata": {
    "id": "cca60b1e"
   },
   "outputs": [],
   "source": [
    "agg_metrics, ts_metrics = evaluator(iter(tss), iter(forecasts))"
   ]
  },
  {
   "cell_type": "code",
   "execution_count": null,
   "id": "13",
   "metadata": {
    "id": "92389256"
   },
   "outputs": [],
   "source": [
    "agg_metrics"
   ]
  },
  {
   "cell_type": "code",
   "execution_count": null,
   "id": "14",
   "metadata": {
    "id": "23878611"
   },
   "outputs": [],
   "source": [
    "plt.figure(figsize=(20, 15))\n",
    "date_formater = mdates.DateFormatter('%b, %d')\n",
    "plt.rcParams.update({'font.size': 15})\n",
    "\n",
    "for idx, (forecast, ts) in islice(enumerate(zip(forecasts, tss)), 9):\n",
    "    ax = plt.subplot(3, 3, idx+1)\n",
    "\n",
    "    plt.plot(ts[-4 * dataset.metadata.prediction_length:], label=\"target\", )\n",
    "    forecast.plot( color='g')\n",
    "    plt.xticks(rotation=60)\n",
    "    plt.title(forecast.item_id)\n",
    "    ax.xaxis.set_major_formatter(date_formater)\n",
    "\n",
    "plt.gcf().tight_layout()\n",
    "plt.legend()\n",
    "plt.show()"
   ]
  },
  {
   "cell_type": "code",
   "execution_count": null,
   "id": "15",
   "metadata": {
    "id": "f34e7aa7"
   },
   "outputs": [],
   "source": []
  }
 ],
 "metadata": {
  "accelerator": "GPU",
  "colab": {
   "collapsed_sections": [],
   "machine_shape": "hm",
   "name": "FEDformer.ipynb",
   "provenance": []
  },
  "gpuClass": "standard",
  "kernelspec": {
   "display_name": "Python 3 (ipykernel)",
   "language": "python",
   "name": "python3"
  },
  "language_info": {
   "codemirror_mode": {
    "name": "ipython",
    "version": 3
   },
   "file_extension": ".py",
   "mimetype": "text/x-python",
   "name": "python",
   "nbconvert_exporter": "python",
   "pygments_lexer": "ipython3",
   "version": "3.10.13"
  }
 },
 "nbformat": 4,
 "nbformat_minor": 5
}
