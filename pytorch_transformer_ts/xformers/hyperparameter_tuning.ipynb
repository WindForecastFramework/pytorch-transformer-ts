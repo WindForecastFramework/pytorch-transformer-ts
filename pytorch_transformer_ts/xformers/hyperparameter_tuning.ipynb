{
 "cells": [
  {
   "cell_type": "code",
   "execution_count": null,
   "metadata": {
    "colab": {
     "base_uri": "https://localhost:8080/"
    },
    "id": "RdI6LSS_mo7o",
    "outputId": "ec9a45c2-590b-4882-c18b-060889723e92"
   },
   "outputs": [],
   "source": [
    "from pytorch_lightning.utilities.model_summary import summarize\n",
    "from datasets import load_dataset\n",
    "from gluonts.evaluation import make_evaluation_predictions, Evaluator\n",
    "from gluonts.dataset.common import ListDataset\n",
    "from estimator import XformerEstimator\n",
    "from gluonts.dataset.util import to_pandas\n",
    "from gluonts.dataset.repository.datasets import get_dataset\n",
    "from pytorch_lightning.loggers import CSVLogger"
   ]
  },
  {
   "cell_type": "code",
   "execution_count": null,
   "metadata": {
    "id": "B-2xyyo-n5YF"
   },
   "outputs": [],
   "source": [
    "#Tuning GluonTS models with Optuna\n",
    "import numpy as np\n",
    "import pandas as pd\n",
    "# import matplotlib.pyplot as plt\n",
    "import json\n",
    "import optuna\n",
    "import torch\n",
    "from gluonts.mx import Trainer\n",
    "from gluonts.evaluation import Evaluator"
   ]
  },
  {
   "cell_type": "code",
   "execution_count": null,
   "metadata": {
    "id": "kM5xplBSDIu4"
   },
   "outputs": [],
   "source": [
    "logger = CSVLogger(\"logs\", name=\"vanilla\")"
   ]
  },
  {
   "cell_type": "code",
   "execution_count": null,
   "metadata": {
    "id": "BM2pl2CSnmn0"
   },
   "outputs": [],
   "source": [
    "freq = \"1H\"\n",
    "prediction_length = 24"
   ]
  },
  {
   "cell_type": "code",
   "execution_count": null,
   "metadata": {
    "colab": {
     "base_uri": "https://localhost:8080/",
     "height": 282,
     "referenced_widgets": [
      "50915595a05f4a299c906eb77d853982",
      "d43b83864a1d4cd1aa13ced65657ec02",
      "b5b285e2976a4813a6226af334a1f762",
      "f168e29a343345f087edc1432b13f856",
      "c78772cb9e48420aae888f18b30c1cb9",
      "3f7d726daea44be8ae177de5d4a64c02",
      "13e8aea637014ca7a95d4ad6bcea6fb5",
      "16a1a89738b34d6fa5b4a68087a2c9d7",
      "73cff0b9f8bf4f3ca443d750d1536a9b",
      "a2235a0896794fbc84d45d1266f1fff9",
      "4fede1a17a6645958bc7438793b95f2f",
      "4c9639326977457aa9dda80ce28d201d",
      "da85bf40115d40dc818ac5a19063f9d1",
      "878edc0241e1487d9c2afc67afcfaadb",
      "cbcf135a65ce4a19b77f653ef0a8829e",
      "3d2bfd28ce394f0fa87fcd6295ef1a53",
      "2dda1c5427fa4e37962b88db86a3fdbe",
      "8aa96622cb90499b9e6b7c4aef953b5c",
      "9e4028364726410d9f15b3e4e6fd1dd4",
      "1866d58985134fe3bc8bf9e86b3d3f45",
      "41816c4c4fbb45079c76e32b928204cd",
      "27d0c36b1fb844e899de8d0d424eca03",
      "c9d7e7dca0df42308796e94027d23ea1",
      "ece8112c1a99468d967d44591da2d6ff",
      "baa349d134d547d89a4a00bb50dafaae",
      "807659c1069e428f90a0b33a2a2c700f",
      "db817022c9914a8782049d3014b4d30e",
      "1aa1e718d6eb4b8bb0305feac088ab17",
      "7c8f88a45b464c97bc4ecf38e0c84d8a",
      "251acdc75e6e4232973a0bdf15677b01",
      "976b7eca895e4b38aa7b37332de82f1a",
      "e1cb5baaa7794b239e877669b257b8a7",
      "fb542349019949df8644b4bea97514fa",
      "1b763382d904437792190f5b1c0b4886",
      "3594a112077643dc8aa79076e7f73a72",
      "4902ca78d4dc4d07b464c1a773a56bbd",
      "3cc435b4b723437ba7b1bcc978573e23",
      "fd0a9db76bd64c05b54ae2a235a7570f",
      "421fe697042d40d789c58c8f36537d36",
      "a21618b5fa7041b18ee896973517e2a6",
      "721663f3ae8740ba92fc550998e3801f",
      "ccb6043a52a74522a61f34f89164384d",
      "764ff31ec7f947a48e56871f6ef788ef",
      "db70e8821fca436d825481df1dd516f1",
      "6f64c5e7932646d889aca1acf5a43718",
      "53db83ef34ef4a128d595a871fbfe97b",
      "596e8db4793f406fa645e75cc3d1b015",
      "a37e6cc052df4aa4880eaaadfae215f9",
      "9be77c4d49394c0aa456c82aed0c6dad",
      "56339a25c0114f64a37efa4411a3859c",
      "42c3f32cf4654c68a82b95eb0a037e9d",
      "569ac7c0e9a5463c8b44205ac96abd94",
      "8dfdcc52d65f48d29ef8070b26c46678",
      "422269c7180741d0898cc85fdbee7742",
      "0cba1a5711d64b11ae5c5fc9a73a347f",
      "f37bb89c0b45455ba49cf97e9f5535f6",
      "3cf228c43ac6419a8f759cdb88575ac3",
      "20c2993cf8b04d8793a7bc76bb735161",
      "a3263bdc40cd40d2958b2a255d79583b",
      "f0ddd2cf7aec4a5db3b4f3b0c9bdc63d",
      "578e5d6e1a774ab7ad7b17e871d0858f",
      "2c7cf3919e874ab8a1d83cf05270de14",
      "844e19c765f648f9bbcee82ee41371e0",
      "5afc6d16ae964ac6a916ff075a7f9a32",
      "1c30690c35ec42218754847c5b1ac5c6",
      "2d2663bd1872491ca70ba98235024296",
      "7f095aad88654c5892b9eeb48a7d7d17",
      "146e1ab50b4a489cac39f40c6d6657cd",
      "f86bbade818a4eb19bfa4df94c5040bf",
      "c40f3999274f42ed9b0d97b603241ca1",
      "3ab123dab9ae49179b806d36e9f62052",
      "97a9ba1059004258b139e8b07ecfdc62",
      "1c83c307d76a44bbb870db1167b8b27d",
      "7e9e6b8e0698484e923810ac53a54ebe",
      "a8d64759402e4ebc827604ba8ac4c6f4",
      "3eaf8949c6f84655a6ace860b2cfe835",
      "8c3668f4fcff491b8653b303a5e49692",
      "50d2a612a27b42658793a06b25bf4d78",
      "867578d3d69d4682891e3cfd6d9be824",
      "430a14b1248540aa9dd7071228627b59",
      "62795fda0ac247299eaaf7be3203ccc7",
      "bcd6bad6df7249a3baf5dc23fcb8df53",
      "f7c690512990416890a23226bb1d3588",
      "9f4abfe672334dc196699bb8373aef88",
      "1e808d475ebf45cea8e05afd69590414",
      "345caf200b32404a8c0eaedccc32670a",
      "4c9c66f7a4544f8598031290fd4f5449",
      "dfed8ab6653b4d808ce3c643a5d086b2"
     ]
    },
    "id": "dkO5OmT-m9dy",
    "outputId": "423c17c9-d294-475d-e757-c741693db1c7"
   },
   "outputs": [],
   "source": [
    "# dataset = load_dataset(\"ett\", \"h2\", prediction_length=24)\n",
    "# freq = \"1H\"\n",
    "# prediction_length = 24"
   ]
  },
  {
   "cell_type": "code",
   "execution_count": null,
   "metadata": {
    "id": "zdLCGqbWDIu5"
   },
   "outputs": [],
   "source": [
    "i = \"solar-energy\"# \"electricity\",\"traffic\", \"m4_hourly\", \"m4_daily\", \"m4_weekly\", \"m4_monthly\", \"m4_quarterly\", \"solar-energy\"\n",
    "dataset = get_dataset(i)\n",
    "prediction_length = 24\n",
    "freq = dataset.metadata.freq"
   ]
  },
  {
   "cell_type": "code",
   "execution_count": null,
   "metadata": {
    "colab": {
     "base_uri": "https://localhost:8080/"
    },
    "id": "BMdGrulfDIu5",
    "outputId": "c9da9f5e-437c-4e21-9252-bb0ec46dd3f9"
   },
   "outputs": [],
   "source": [
    "int(dataset.metadata.feat_static_cat[0].cardinality)"
   ]
  },
  {
   "cell_type": "code",
   "execution_count": null,
   "metadata": {
    "id": "HfUMkgzAME4H"
   },
   "outputs": [],
   "source": [
    "train_ds = ListDataset(dataset.train, freq=freq)\n",
    "# val_ds = ListDataset(dataset.validation, freq=freq)\n",
    "test_ds = ListDataset(dataset.test, freq=freq)"
   ]
  },
  {
   "cell_type": "code",
   "execution_count": null,
   "metadata": {
    "id": "Ho1PxDM6MeEw"
   },
   "outputs": [],
   "source": [
    "## vanilla tranformer"
   ]
  },
  {
   "cell_type": "code",
   "execution_count": null,
   "metadata": {
    "id": "cl3JMFsgMS5M"
   },
   "outputs": [],
   "source": [
    "class TransformerTuningObjective:  \n",
    "    def __init__(self, dataset, prediction_length, freq, metric_type=\"mean_wQuantileLoss\"):\n",
    "        self.dataset = dataset\n",
    "        self.prediction_length = prediction_length\n",
    "        self.freq = freq\n",
    "        self.metric_type = metric_type\n",
    "    \n",
    "    def get_params(self, trial) -> dict:\n",
    "        return {\n",
    "        \"context_length\": trial.suggest_int(\"context_length\", dataset.metadata.prediction_length, dataset.metadata.prediction_length*7,4),\n",
    "        \"max_epochs\": trial.suggest_int(\"max_epochs\", 1, 10,2),\n",
    "        \"batch_size\": trial.suggest_int(\"batch_size\", 128, 256, 64),\n",
    "        \"num_encoder_layers\": trial.suggest_int(\"num_encoder_layers\", 2, 16,4),\n",
    "        \"num_decoder_layers\": trial.suggest_int(\"num_decoder_layers\", 2, 16,4),\n",
    "        \"hidden_layer_multiplier\": trial.suggest_int(\"hidden_layer_multiplier\", 1, 4, 1)\n",
    "        }\n",
    "     \n",
    "    def __call__(self, trial):\n",
    "        params = self.get_params(trial)\n",
    "        estimator = XformerEstimator(\n",
    "        freq=dataset.metadata.freq,\n",
    "        prediction_length=dataset.metadata.prediction_length,\n",
    "        context_length=params['context_length'],\n",
    "        \n",
    "        scaling=True,\n",
    "        num_feat_static_cat=len(dataset.metadata.feat_static_cat),\n",
    "        cardinality=[int(cat_feat_info.cardinality) for cat_feat_info in dataset.metadata.feat_static_cat],\n",
    "        embedding_dimension=[5],\n",
    "        \n",
    "        nhead=2,\n",
    "        num_encoder_layers=params['num_encoder_layers'],\n",
    "        num_decoder_layers=params['num_decoder_layers'],\n",
    "        hidden_layer_multiplier=params['hidden_layer_multiplier'],\n",
    "        activation=\"gelu\",\n",
    "        # attention_args={\"name\": \"global\",},#global, nystrom\n",
    "#         # longformer\n",
    "#         attention_args={\"name\": \"global\",},\n",
    "#         reversible=True, \n",
    "        \n",
    "        # favor/performer\n",
    "        attention_args={\"name\": \"linformer\", \"iter_before_redraw\": 2},\n",
    "        \n",
    "        batch_size=params['batch_size'],\n",
    "        num_batches_per_epoch=100,\n",
    "        trainer_kwargs=dict(max_epochs=params['max_epochs'], accelerator='auto', gpus=1, logger=logger),\n",
    "    )\n",
    "        predictor = estimator.train(\n",
    "        training_data=self.dataset.train,\n",
    "        # validation_data=val_ds,\n",
    "        num_workers=8,\n",
    "        # shuffle_buffer_length=1024\n",
    "        )\n",
    "        \n",
    "        forecast_it, ts_it = make_evaluation_predictions(\n",
    "            dataset=self.dataset.test, \n",
    "            predictor=predictor\n",
    "        )\n",
    "        forecasts = list(forecast_it)\n",
    "        # if layer == layers[0]:\n",
    "        tss = list(ts_it)\n",
    "        \n",
    "        evaluator = Evaluator()\n",
    "        agg_metrics, _ = evaluator(iter(tss), iter(forecasts))\n",
    "        return agg_metrics[self.metric_type]"
   ]
  },
  {
   "cell_type": "code",
   "execution_count": null,
   "metadata": {
    "colab": {
     "base_uri": "https://localhost:8080/",
     "height": 1000,
     "referenced_widgets": [
      "93c5de0e769d4dc599b6743a1f7a1474",
      "639c512cef25418e89e7b12475da794c",
      "21a0a8b4d22742b7997b93bf294fc9fd",
      "69fd13f48b39460abbed11fe461fd589",
      "2c2878f220ac4b30ba2248d9b00f6078",
      "9afda09c13d243c38f6c53608590867c",
      "6f85ed8ef4b44cfebd48a3d43b67e645",
      "e3c5663554024d6bad006bbf8a16485d",
      "9ab87bd44c184224ba4e7bd08fc803ea",
      "88e5ca993b4544c89a0d8e2adefdcd88",
      "747e43e52a0947a89f091543680ddb1e",
      "bb00309d513c49bd9c5b46a609454ed0",
      "f22ef64eea984452968835ecf8c71e0a",
      "87eb3e136b4348639c294b249f563612",
      "d97cb210df05474ab8b19d73507e262a",
      "0432760557fa4fcdbbcd4f459baddd24",
      "1e472de0616144c29ad1bfc02279c2a4",
      "66c9094e34764790b4ab9b3e799d755c",
      "f9f438da5c704762833f7e2f3aed2d09",
      "0226301f395648d499d786fd404106d2",
      "d1574ab34e4c458fa2d89008f5d98c36",
      "b5eb21b4f2f44026a51bc2b4ab5fdff1",
      "464b80666d1940f5a6d7d8ed39f3f861",
      "84a1eafb47034c6cbf5d81332ddded44",
      "3ab9aa391e584f2bb32bde063281d2f0",
      "cb79cc5876a1402da76650d75a34a66b",
      "999d5f05495f4af9bcb8636940beed1f",
      "20a5e802c10241188c5ef3c5d3bfab18",
      "8b6be78e31544f04bcd35fd8327955e6",
      "12a4744bec9d4f769a52fcc7d6dd76e6",
      "71196a1cb9f84bfc9f3ca9a15cae65cb",
      "234863eeda4f4288a1dc303b24459e50",
      "adc415cead9c44c897599f6aa68a765f",
      "3600d833c99f42fab403c6c76be06496",
      "0d2810095490453a885a43d24e4b1d87",
      "ec486e84bdcc4cf3ae87095ebf9b5591",
      "f1eb17ba079348c6b9a51393d7d3867b",
      "8223f03abab84f2f93e2513d06ebf784",
      "77136113673e4a8b823a096ee979be60",
      "78e40e6282a9438db120f27818bb9a78",
      "ef20d8fd26274c2a8c17e1f2421574d8",
      "5a8c09d8b6b3466e9b0aede2f308278d",
      "e0f8e226ca964ac1b9cc07f8a8f61497",
      "69568576370348b8a4b55049520b6e7d",
      "7e2254e8ce0b4ceeaf7d34c990056b8e",
      "4d4da76814aa437f9a5426b06d2d6931",
      "8646692841204315995997b26a7e1131",
      "bad2367c63934ba7bef0be1057ad5a06",
      "a1bd9cb9881a467c819997635337cf3e",
      "1d43b763bf6a40268366e7ffbeb3c8a8",
      "fec0f1e293f6425096561d3cf06fc370",
      "e5bfa3339561400fa4aad417f5a1d64d",
      "7822f34bbd944bbeac5a23e6db4837a7",
      "762b103e20544b7b8d2bd5d579c5d87a",
      "764d302fdaeb483f8a90c7cc2b9a3f8a",
      "976357244e3f421798376139254d310b",
      "1fb082b7c6c1479c82c86014471bfa6c",
      "cc664205e48b426786313b764eb11bb1",
      "9af0ef5960dd4fa1a8cd2a97d4c3fbf9",
      "11bc405b238d4e72a90e0f4b9bf3cfd9",
      "5f7b9de2384d442bab13b5d81f6b5a7f",
      "1e8d5357c02e4c8b85ab827b75d94490",
      "9f77e919b26548f2adf4bf03668f426b",
      "150e6733eef04fafa937fafa9f101668",
      "eb2aa13645b647cba9073930e1b0a003",
      "31bc2661512342c69464e2563f5a04f6",
      "b7fbcf1ac485420e899b4cb7a7ccd358",
      "bbbfae295b15481789a3b7f5283d4274",
      "fba7455420b6489980940c050b3effca",
      "149ac9b9deef49a1903e5f03356f306a",
      "73a9ab8484b345f29bcb9bf451c902e1",
      "72f5745b1edb49eb8ddc0af18a91f1de",
      "b52a1d792f8f469eb73807aafcd6a913",
      "3941f7d5a60d4da0a2fa2879b94f399d",
      "7884405dce0648cc87b11f4028c01dcb",
      "f553e5a625ee46fe92e1b470a16e2fcc",
      "17c3262db73b44adadf603988460f402",
      "48011200e14d41fea837edb04655f69f",
      "e4b311ae2301408385fde648bd2c0e3b",
      "cda2709070734424b5d22170fc84e4cd",
      "7eebeddb6c214b1190ac38768efeada8",
      "7a7fc413f0ce40d495e691b12745ca60",
      "67007a3e0c1c4a828373d7ad10532628",
      "2cd39ff9e4e647369b215f84aba56bd5",
      "5882abc70ef642b38511de1a031a1030",
      "c4f965a6b6bb46fb809afbc119a00742",
      "e7e5f6887a4c433688e1d90541b2a492",
      "16ff495c79834a26a574b342e3f28c88",
      "62a2ed6fb002422b95664e204f21e1f3",
      "4443296345a54fda82d0b9bab12f9e01",
      "92a8f71f7713474c9c38c4fc75c5ec14",
      "05eb951b8ab94bc2bdd578e45de377e1",
      "e7f48542ff9c460eac4672777f4d41ac",
      "119e8b9a930a4b29946c62482e01ecb4",
      "97287e5449814ad4905b8355dc9abee0",
      "2d448966e54945fda64e41624eebed85",
      "0927747a293248bc96fb97f76200addf",
      "18f19e90396144e284ce10fd144b29ce",
      "0a5a9e0646454a7dbbdc19d4c1d47eb9",
      "670ad5a3251c4f10b3a9ae409bc08ad4",
      "badc5760f57840a2b81fccceefdc5671",
      "c6c0c85b38aa4549a1ce34d07eae6672",
      "f231808536054e199a33edca2e5f2d92",
      "851d52735ef7404b8a31dc8f597018ee",
      "20eee464d69741248209da099281b7a3",
      "163b6586cc0c4c94a514a3eb0459b0d1",
      "6d9d4303d2444ce8b6a74b79174bd910",
      "fe844636eb1f4a7a9b7d573354cef3a8",
      "89d11a7453094882ae724a00c52bb26d",
      "64eee179bab94d9fa1121e9f9e00170a"
     ]
    },
    "id": "30trJcAgMXiw",
    "outputId": "eacf4b06-6d09-458b-a265-d30b4a21416c"
   },
   "outputs": [],
   "source": [
    "import time\n",
    "start_time = time.time()\n",
    "study = optuna.create_study(direction=\"minimize\")\n",
    "study.optimize(TransformerTuningObjective(dataset, prediction_length = prediction_length, freq=freq), n_trials=10)\n",
    "\n",
    "print(\"Number of finished trials: {}\".format(len(study.trials)))\n",
    "\n",
    "print(\"Best trial:\")\n",
    "trial = study.best_trial\n",
    "\n",
    "print(\"  Value: {}\".format(trial.value))\n",
    "\n",
    "print(\"  Params: \")\n",
    "for key, value in trial.params.items():\n",
    "    print(\"    {}: {}\".format(key, value))\n",
    "print(time.time() - start_time)"
   ]
  },
  {
   "cell_type": "code",
   "execution_count": null,
   "metadata": {
    "id": "cEgUqlLqDIu-"
   },
   "outputs": [],
   "source": []
  },
  {
   "cell_type": "code",
   "execution_count": null,
   "metadata": {
    "id": "BMDvU2INDIu_"
   },
   "outputs": [],
   "source": []
  }
 ],
 "metadata": {
  "accelerator": "GPU",
  "colab": {
   "machine_shape": "hm",
   "provenance": []
  },
  "gpuClass": "standard",
  "kernelspec": {
   "display_name": "rapids",
   "language": "python",
   "name": "rapids"
  },
  "language_info": {
   "codemirror_mode": {
    "name": "ipython",
    "version": 3
   },
   "file_extension": ".py",
   "mimetype": "text/x-python",
   "name": "python",
   "nbconvert_exporter": "python",
   "pygments_lexer": "ipython3",
   "version": "3.7.12"
  }
 },
 "nbformat": 4,
 "nbformat_minor": 4
}
