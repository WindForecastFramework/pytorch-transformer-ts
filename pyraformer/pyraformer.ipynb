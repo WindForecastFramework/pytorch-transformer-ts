{
 "cells": [
  {
   "cell_type": "markdown",
   "id": "0",
   "metadata": {
    "executionInfo": {
     "elapsed": 7,
     "status": "ok",
     "timestamp": 1650430437558,
     "user": {
      "displayName": "Hena Ghonia",
      "userId": "03246241722682988409"
     },
     "user_tz": 240
    },
    "id": "1XLYCBAswBhQ"
   },
   "source": [
    "#### Single step Pyraformer working"
   ]
  },
  {
   "cell_type": "code",
   "execution_count": null,
   "id": "1",
   "metadata": {},
   "outputs": [],
   "source": [
    "%matplotlib inline\n",
    "\n",
    "import multiprocessing\n",
    "import matplotlib.dates as mdates\n",
    "from matplotlib import pyplot as plt\n",
    "from itertools import islice\n",
    "import random\n",
    "from pathlib import Path\n",
    "import pandas as pd\n",
    "import os\n",
    "# import matplotlib.pyplot as plt\n",
    "from glob import glob\n",
    "from hashlib import sha1\n"
   ]
  },
  {
   "cell_type": "code",
   "execution_count": null,
   "id": "2",
   "metadata": {
    "colab": {
     "base_uri": "https://localhost:8080/"
    },
    "executionInfo": {
     "elapsed": 2207,
     "status": "ok",
     "timestamp": 1650430444238,
     "user": {
      "displayName": "Hena Ghonia",
      "userId": "03246241722682988409"
     },
     "user_tz": 240
    },
    "id": "n0nOWRF-wFl2",
    "outputId": "22b11d98-cc25-4ba0-af98-320628468adc"
   },
   "outputs": [],
   "source": [
    "from gluonts.evaluation import make_evaluation_predictions, Evaluator\n",
    "from gluonts.dataset.repository.datasets import get_dataset\n",
    "from pytorch_lightning.loggers import CSVLogger, WandbLogger\n",
    "from pytorch_lightning.callbacks import ModelCheckpoint, DeviceStatsMonitor, EarlyStopping\n",
    "\n",
    "from estimator import PyraformerEstimator"
   ]
  },
  {
   "cell_type": "code",
   "execution_count": null,
   "id": "3",
   "metadata": {
    "executionInfo": {
     "elapsed": 3,
     "status": "ok",
     "timestamp": 1650430444238,
     "user": {
      "displayName": "Hena Ghonia",
      "userId": "03246241722682988409"
     },
     "user_tz": 240
    },
    "id": "Qzi9eE6q7x5y"
   },
   "outputs": [],
   "source": [
    "dataset = get_dataset(\"electricity\")"
   ]
  },
  {
   "cell_type": "code",
   "execution_count": null,
   "id": "4",
   "metadata": {},
   "outputs": [],
   "source": [
    "seed = 0\n",
    "experiment_name = \"pyraformer_ckp\"\n",
    "fulldir = experiment_name + \"/\" + str(seed)\n",
    "os.makedirs(fulldir, exist_ok=True)\n",
    "\n",
    "\n",
    "# Code to retrieve the version with the highest #epoch stored and restore it incl directory and its checkpoint\n",
    "lightning_version_to_use, ckpt_path = None, None\n",
    "max_epoch = -1\n",
    "if \"pyraformer_ckp\" in os.listdir(fulldir):\n",
    "    ckpts = glob(fulldir+ sha1(fulldir.encode(\"utf-8\")).hexdigest()[:8] + \"/checkpoints/*.ckpt\")\n",
    "    if len(ckpts): ckpt_path = ckpts[0]\n",
    "elif \"lightning_logs\" in os.listdir(fulldir):\n",
    "    for lightning_version in os.listdir(fulldir+\"/lightning_logs/\"):\n",
    "        ckpts = glob(fulldir+\"/lightning_logs/\" + lightning_version + \"/checkpoints/*.ckpt\")\n",
    "        if len(ckpts):\n",
    "            epoch = int(ckpts[0][ckpts[0].find(\"=\")+1:ckpts[0].find(\"-step\")])\n",
    "            if epoch > max_epoch:\n",
    "                lightning_version_to_use = lightning_version\n",
    "                max_epoch = epoch\n",
    "                ckpt_path = ckpts[0]\n",
    "    if lightning_version_to_use: print(\"Using lightning_version\", lightning_version_to_use, \"with epoch\", max_epoch, \"restoring from checkpoint at path\", ckpt_path)\n",
    "\n",
    "\n",
    "experiment_logger = CSVLogger(save_dir=fulldir)\n",
    "logger = [experiment_logger]\n",
    "early_stop_callback = EarlyStopping(monitor=\"val_loss\", min_delta=0.00, patience=50, verbose=True, mode=\"min\")\n",
    "callbacks=[early_stop_callback]"
   ]
  },
  {
   "cell_type": "code",
   "execution_count": null,
   "id": "5",
   "metadata": {
    "executionInfo": {
     "elapsed": 139,
     "status": "ok",
     "timestamp": 1650430475324,
     "user": {
      "displayName": "Hena Ghonia",
      "userId": "03246241722682988409"
     },
     "user_tz": 240
    },
    "id": "i7AV93A07sQa"
   },
   "outputs": [],
   "source": [
    "estimator = PyraformerEstimator(\n",
    "    # freq=dataset.metadata.freq,\n",
    "    prediction_length=dataset.metadata.prediction_length,\n",
    "    # num_feat_static_cat=1,\n",
    "    # cardinality=[321],\n",
    "    single_step= True,\n",
    "    d_model = 512,\n",
    "    aug_prob = 1.0,\n",
    "    aug_rate = 0.1,\n",
    "    # training params\n",
    "    batch_size=128,\n",
    "    num_batches_per_epoch=100,\n",
    "\n",
    "    trainer_kwargs=dict(max_epochs=50, accelerator=\"gpu\", precision=\"32\", logger=logger, callbacks=callbacks),\n",
    "    ckpt_path = ckpt_path\n",
    ")\n"
   ]
  },
  {
   "cell_type": "code",
   "execution_count": null,
   "id": "6",
   "metadata": {
    "colab": {
     "base_uri": "https://localhost:8080/",
     "height": 1000
    },
    "executionInfo": {
     "elapsed": 766,
     "status": "error",
     "timestamp": 1650430476900,
     "user": {
      "displayName": "Hena Ghonia",
      "userId": "03246241722682988409"
     },
     "user_tz": 240
    },
    "id": "hXjDU6rhK9H_",
    "outputId": "086996d5-ccda-4fb4-8a64-861b8c732bab"
   },
   "outputs": [],
   "source": [
    "predictor = estimator.train(\n",
    "    training_data=dataset.train,\n",
    "    validation_data=dataset.test,\n",
    "    shuffle_buffer_length=1024,\n",
    "    ckpt_path = ckpt_path)\n"
   ]
  },
  {
   "cell_type": "code",
   "execution_count": null,
   "id": "7",
   "metadata": {},
   "outputs": [],
   "source": [
    "forecast_it, ts_it = make_evaluation_predictions(\n",
    "    dataset=dataset.test, \n",
    "    predictor=predictor\n",
    ")\n"
   ]
  },
  {
   "cell_type": "code",
   "execution_count": null,
   "id": "8",
   "metadata": {},
   "outputs": [],
   "source": [
    "forecasts = list(forecast_it)"
   ]
  },
  {
   "cell_type": "code",
   "execution_count": null,
   "id": "9",
   "metadata": {},
   "outputs": [],
   "source": [
    "tss = list(ts_it)"
   ]
  },
  {
   "cell_type": "code",
   "execution_count": null,
   "id": "10",
   "metadata": {},
   "outputs": [],
   "source": [
    "num_workers = min(multiprocessing.cpu_count(), 10)\n",
    "\n",
    "evaluator = Evaluator(num_workers=num_workers)"
   ]
  },
  {
   "cell_type": "code",
   "execution_count": null,
   "id": "11",
   "metadata": {},
   "outputs": [],
   "source": [
    "agg_metrics, ts_metrics = evaluator(iter(tss), iter(forecasts))"
   ]
  },
  {
   "cell_type": "code",
   "execution_count": null,
   "id": "12",
   "metadata": {},
   "outputs": [],
   "source": [
    "agg_metrics"
   ]
  },
  {
   "cell_type": "code",
   "execution_count": null,
   "id": "13",
   "metadata": {},
   "outputs": [],
   "source": [
    "plt.figure(figsize=(20, 15))\n",
    "date_formater = mdates.DateFormatter('%b, %d')\n",
    "plt.rcParams.update({'font.size': 15})\n",
    "\n",
    "for idx, (forecast, ts) in islice(enumerate(zip(forecasts, tss)), 9):\n",
    "    ax = plt.subplot(3, 3, idx+1)\n",
    "\n",
    "    # Convert index for plot\n",
    "    ts = ts[-4 * dataset.metadata.prediction_length:].to_timestamp()\n",
    "    \n",
    "    plt.plot(ts, label=\"target\")\n",
    "    forecast.plot( color='g')\n",
    "    plt.xticks(rotation=60)\n",
    "    plt.title(forecast.item_id)\n",
    "    ax.xaxis.set_major_formatter(date_formater)\n",
    "\n",
    "plt.gcf().tight_layout()\n",
    "plt.legend()\n",
    "plt.show()"
   ]
  },
  {
   "cell_type": "code",
   "execution_count": null,
   "id": "14",
   "metadata": {
    "id": "d61f32ab"
   },
   "outputs": [],
   "source": [
    "# plt.figure(figsize=(20, 15))\n",
    "# date_formater = mdates.DateFormatter('%b, %d')\n",
    "# plt.rcParams.update({'font.size': 15})\n",
    "\n",
    "# for idx, (forecast, ts) in islice(enumerate(zip(forecasts, tss)), 9):\n",
    "#     ax = plt.subplot(3, 3, idx+1)\n",
    "\n",
    "#     plt.plot(ts[-4 * dataset.metadata.prediction_length:], label=\"target\", )\n",
    "#     forecast.plot( color='g')\n",
    "#     plt.xticks(rotation=60)\n",
    "#     ax.xaxis.set_major_formatter(date_formater)\n",
    "\n",
    "# plt.gcf().tight_layout()\n",
    "# plt.legend()\n",
    "# plt.show()"
   ]
  },
  {
   "cell_type": "code",
   "execution_count": null,
   "id": "15",
   "metadata": {
    "id": "d494463f"
   },
   "outputs": [],
   "source": [
    "# def plot_prob_forecasts(ts_entry, forecast_entry):\n",
    "#     plot_length = 70\n",
    "#     prediction_intervals = (50.0, 90.0)\n",
    "#     legend = [\"observations\", \"median prediction\"] + [f\"{k}% prediction interval\" for k in prediction_intervals][::-1]\n",
    "\n",
    "#     fig, ax = plt.subplots(1, 1, figsize=(10, 7))\n",
    "#     ts_entry[-plot_length:].plot(ax=ax)  # plot the time series\n",
    "#     forecast_entry.plot(prediction_intervals=prediction_intervals, color='g')\n",
    "#     plt.grid(which=\"both\")\n",
    "#     plt.legend(legend, loc=\"best\")\n",
    "#     plt.show()"
   ]
  },
  {
   "cell_type": "code",
   "execution_count": null,
   "id": "16",
   "metadata": {
    "id": "5256fde1"
   },
   "outputs": [],
   "source": [
    "# index = 123\n",
    "# plot_prob_forecasts(tss[index], forecasts[index])"
   ]
  }
 ],
 "metadata": {
  "accelerator": "GPU",
  "colab": {
   "collapsed_sections": [],
   "name": "pyraformer.ipynb",
   "provenance": []
  },
  "kernelspec": {
   "display_name": "py38",
   "language": "python",
   "name": "py38"
  },
  "language_info": {
   "codemirror_mode": {
    "name": "ipython",
    "version": 3
   },
   "file_extension": ".py",
   "mimetype": "text/x-python",
   "name": "python",
   "nbconvert_exporter": "python",
   "pygments_lexer": "ipython3",
   "version": "3.8.10"
  }
 },
 "nbformat": 4,
 "nbformat_minor": 5
}
